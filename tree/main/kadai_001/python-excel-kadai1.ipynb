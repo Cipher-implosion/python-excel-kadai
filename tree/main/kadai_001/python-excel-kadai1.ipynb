{
 "cells": [
  {
   "cell_type": "code",
   "execution_count": 9,
   "id": "c1647cdb-1c90-4e63-aff5-06eef739295a",
   "metadata": {},
   "outputs": [],
   "source": [
    "import openpyxl\n",
    "from datetime import datetime\n",
    "\n",
    "workbook =openpyxl.Workbook()\n",
    "\n",
    "sheet = workbook.create_sheet('請求書')\n",
    "\n",
    "sheet['A2'].value = '請求書'\n",
    "sheet['A4'].value = '株式会社ABC'\n",
    "sheet['A5'].value = '〒101-0022 東京都千代田区神田練塀町300'\n",
    "sheet['A6'].value = 'TEL:03-1234-5678 FAX:03-1234-5678'\n",
    "sheet['A7'].value = '担当者名:鈴木一郎 様'\n",
    "sheet['E4'].value = 'No.'\n",
    "sheet['E5'].value = '日付'\n",
    "sheet['F4'].value = '0001'\n",
    "\n",
    "today = datetime.today()\n",
    "sheet['F5'].value = today.strftime('%Y/%m/%d')\n",
    "\n",
    "header = ['商品名', '数量', '単価', '金額']\n",
    "sheet.append(header)\n",
    "\n",
    "data = [\n",
    "    ['商品A', 2, 10000, 20000],\n",
    "    ['商品B', 1, 15000, 15000]\n",
    "]\n",
    "\n",
    "for row in data:\n",
    "    sheet.append(row)\n",
    "\n",
    "sheet.insert_rows(8,2)\n",
    "sheet.insert_cols(1,1)\n",
    "\n",
    "sheet['E13'].value = 35000\n",
    "sheet['B15'].value = '合計'\n",
    "sheet['E15'].value = 35000\n",
    "sheet['B16'].value = '消費税'\n",
    "sheet['E16'].value = 3500\n",
    "sheet['B17'].value = '税込合計'\n",
    "sheet['E17'].value = 38500\n",
    "\n",
    "filename = f\"請求書_{today.strftime('%Y%m%d')}.xlsx\"\n",
    "\n",
    "workbook.save(filename)\n"
   ]
  },
  {
   "cell_type": "code",
   "execution_count": null,
   "id": "b8924cfa-49e2-47d1-bf77-28429a841461",
   "metadata": {},
   "outputs": [],
   "source": []
  }
 ],
 "metadata": {
  "kernelspec": {
   "display_name": "Python 3 (ipykernel)",
   "language": "python",
   "name": "python3"
  },
  "language_info": {
   "codemirror_mode": {
    "name": "ipython",
    "version": 3
   },
   "file_extension": ".py",
   "mimetype": "text/x-python",
   "name": "python",
   "nbconvert_exporter": "python",
   "pygments_lexer": "ipython3",
   "version": "3.13.2"
  }
 },
 "nbformat": 4,
 "nbformat_minor": 5
}
