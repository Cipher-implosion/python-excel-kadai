{
 "cells": [
  {
   "cell_type": "code",
   "execution_count": 13,
   "id": "ffc0f7ca-721e-4798-b79c-86aa4a78db45",
   "metadata": {},
   "outputs": [],
   "source": [
    "import pandas as pd\n",
    "\n",
    "df = pd.DataFrame({\n",
    "    '日付':['2023-05-17', '2023-05-18', '2023-05-19', '2023-05-20', '2023-05-21'],\n",
    "    '社員名':['山田', '佐藤', '鈴木', '田中', '高橋'],\n",
    "    '売上':[100, 200, 150, 300, 250],\n",
    "    '部門':['メーカー', '代理店', 'メーカー', '商社', '代理店']\n",
    "})\n",
    "\n",
    "df['平均売上'] = df['売上'].mean()\n",
    "\n",
    "averege_sales = df['売上'].mean()\n",
    "\n",
    "def rank(level, avg_sales):\n",
    "    if level >= avg_sales:\n",
    "        return 'A'\n",
    "    elif level >= avg_sales:\n",
    "        return 'B'\n",
    "    else:\n",
    "        return 'C'\n",
    "\n",
    "df['業績ランク'] = df['売上'].apply(lambda x: rank(x, averege_sales))\n",
    "\n",
    "writer = pd.ExcelWriter('業績.xlsx')\n",
    "\n",
    "df.to_excel(writer, sheet_name = 'Sheet1', index=False)\n",
    "\n",
    "writer.close()"
   ]
  },
  {
   "cell_type": "code",
   "execution_count": null,
   "id": "1be23e70-546c-42c9-a8e4-4337498bae17",
   "metadata": {},
   "outputs": [],
   "source": []
  }
 ],
 "metadata": {
  "kernelspec": {
   "display_name": "Python 3 (ipykernel)",
   "language": "python",
   "name": "python3"
  },
  "language_info": {
   "codemirror_mode": {
    "name": "ipython",
    "version": 3
   },
   "file_extension": ".py",
   "mimetype": "text/x-python",
   "name": "python",
   "nbconvert_exporter": "python",
   "pygments_lexer": "ipython3",
   "version": "3.13.2"
  }
 },
 "nbformat": 4,
 "nbformat_minor": 5
}
